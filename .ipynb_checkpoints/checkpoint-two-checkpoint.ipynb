{
 "cells": [
  {
   "attachments": {},
   "cell_type": "markdown",
   "metadata": {
    "azdata_cell_guid": "151601c9-ca7a-412e-af80-c62a87e0837e"
   },
   "source": [
    "# Checkpoint Two: Exploratory Data Analysis\n",
    "\n",
    "Now that your chosen dataset is approved, it is time to start working on your analysis. Use this notebook to perform your EDA and make notes where directed to as you work.\n",
    "\n",
    "## Getting Started\n",
    "\n",
    "Since we have not provided your dataset for you, you will need to load the necessary files in this repository. Make sure to include a link back to the original dataset here as well.\n",
    "\n",
    "My dataset:\n",
    "\n",
    "Your first task in EDA is to import necessary libraries and create a dataframe(s). Make note in the form of code comments of what your thought process is as you work on this setup task."
   ]
  },
  {
   "cell_type": "code",
   "execution_count": 26,
   "metadata": {
    "azdata_cell_guid": "7b503e37-6df5-4433-acfb-678b1346db14"
   },
   "outputs": [],
   "source": [
    "# import libraries and dataframes\n",
    "import pandas as pd\n",
    "import numpy as np\n",
    "import matplotlib.pyplot as plt\n",
    "\n",
    "hospital_info_df = pd.read_csv(r\"C:\\Users\\holme\\OneDrive\\Desktop\\LaunchCode\\Final Graded Assignment\\Hospital_General_Information.csv\")\n",
    "hospital_location_df = pd.read_csv(r\"C:\\Users\\holme\\OneDrive\\Desktop\\LaunchCode\\Final Graded Assignment\\hospital_locations.csv\")"
   ]
  },
  {
   "cell_type": "code",
   "execution_count": 27,
   "metadata": {},
   "outputs": [
    {
     "name": "stdout",
     "output_type": "stream",
     "text": [
      "<class 'pandas.core.frame.DataFrame'>\n",
      "RangeIndex: 4818 entries, 0 to 4817\n",
      "Data columns (total 30 columns):\n",
      " #   Column                                                         Non-Null Count  Dtype  \n",
      "---  ------                                                         --------------  -----  \n",
      " 0   index                                                          4818 non-null   int64  \n",
      " 1   Provider ID                                                    4818 non-null   int64  \n",
      " 2   Hospital Name                                                  4818 non-null   object \n",
      " 3   Address                                                        4818 non-null   object \n",
      " 4   City                                                           4818 non-null   object \n",
      " 5   State                                                          4818 non-null   object \n",
      " 6   ZIP Code                                                       4818 non-null   int64  \n",
      " 7   County Name                                                    4803 non-null   object \n",
      " 8   Phone Number                                                   4818 non-null   int64  \n",
      " 9   Hospital Type                                                  4818 non-null   object \n",
      " 10  Hospital Ownership                                             4818 non-null   object \n",
      " 11  Emergency Services                                             4818 non-null   bool   \n",
      " 12  Meets criteria for meaningful use of EHRs                      0 non-null      float64\n",
      " 13  Hospital overall rating                                        3648 non-null   float64\n",
      " 14  Hospital overall rating footnote                               1342 non-null   object \n",
      " 15  Mortality national comparison                                  4818 non-null   object \n",
      " 16  Mortality national comparison footnote                         1337 non-null   object \n",
      " 17  Safety of care national comparison                             4818 non-null   object \n",
      " 18  Safety of care national comparison footnote                    1892 non-null   object \n",
      " 19  Readmission national comparison                                4818 non-null   object \n",
      " 20  Readmission national comparison footnote                       1002 non-null   object \n",
      " 21  Patient experience national comparison                         4818 non-null   object \n",
      " 22  Patient experience national comparison footnote                1355 non-null   object \n",
      " 23  Effectiveness of care national comparison                      4818 non-null   object \n",
      " 24  Effectiveness of care national comparison footnote             1116 non-null   object \n",
      " 25  Timeliness of care national comparison                         4818 non-null   object \n",
      " 26  Timeliness of care national comparison footnote                1331 non-null   object \n",
      " 27  Efficient use of medical imaging national comparison           4818 non-null   object \n",
      " 28  Efficient use of medical imaging national comparison footnote  2026 non-null   object \n",
      " 29  Location                                                       4818 non-null   object \n",
      "dtypes: bool(1), float64(2), int64(4), object(23)\n",
      "memory usage: 1.1+ MB\n"
     ]
    }
   ],
   "source": [
    "# checking datatypes\n",
    "hospital_info_df.info()"
   ]
  },
  {
   "attachments": {},
   "cell_type": "markdown",
   "metadata": {
    "azdata_cell_guid": "129ce836-524b-4ea8-b394-a959f9308d6a"
   },
   "source": [
    "## Get to Know the Numbers\n",
    "\n",
    "Now that you have everything setup, put any code that you use to get to know the dataframe and its rows and columns better in the cell below. You can use whatever techniques you like, except for visualizations. You will put those in a separate section.\n",
    "\n",
    "When working on your code, make sure to leave comments so that your mentors can understand your thought process."
   ]
  },
  {
   "cell_type": "code",
   "execution_count": 28,
   "metadata": {
    "azdata_cell_guid": "0ca2d318-f6e8-43ef-a33e-5304d24d928d",
    "tags": []
   },
   "outputs": [
    {
     "data": {
      "text/html": [
       "<div>\n",
       "<style scoped>\n",
       "    .dataframe tbody tr th:only-of-type {\n",
       "        vertical-align: middle;\n",
       "    }\n",
       "\n",
       "    .dataframe tbody tr th {\n",
       "        vertical-align: top;\n",
       "    }\n",
       "\n",
       "    .dataframe thead th {\n",
       "        text-align: right;\n",
       "    }\n",
       "</style>\n",
       "<table border=\"1\" class=\"dataframe\">\n",
       "  <thead>\n",
       "    <tr style=\"text-align: right;\">\n",
       "      <th></th>\n",
       "      <th>index</th>\n",
       "      <th>Provider ID</th>\n",
       "      <th>Hospital Name</th>\n",
       "      <th>Address</th>\n",
       "      <th>City</th>\n",
       "      <th>State</th>\n",
       "      <th>ZIP Code</th>\n",
       "      <th>County Name</th>\n",
       "      <th>Phone Number</th>\n",
       "      <th>Hospital Type</th>\n",
       "      <th>...</th>\n",
       "      <th>Readmission national comparison footnote</th>\n",
       "      <th>Patient experience national comparison</th>\n",
       "      <th>Patient experience national comparison footnote</th>\n",
       "      <th>Effectiveness of care national comparison</th>\n",
       "      <th>Effectiveness of care national comparison footnote</th>\n",
       "      <th>Timeliness of care national comparison</th>\n",
       "      <th>Timeliness of care national comparison footnote</th>\n",
       "      <th>Efficient use of medical imaging national comparison</th>\n",
       "      <th>Efficient use of medical imaging national comparison footnote</th>\n",
       "      <th>Location</th>\n",
       "    </tr>\n",
       "  </thead>\n",
       "  <tbody>\n",
       "    <tr>\n",
       "      <th>0</th>\n",
       "      <td>0</td>\n",
       "      <td>10005</td>\n",
       "      <td>MARSHALL MEDICAL CENTER SOUTH</td>\n",
       "      <td>2505 U S HIGHWAY 431 NORTH</td>\n",
       "      <td>BOAZ</td>\n",
       "      <td>AL</td>\n",
       "      <td>35957</td>\n",
       "      <td>MARSHALL</td>\n",
       "      <td>2565938310</td>\n",
       "      <td>Acute Care Hospitals</td>\n",
       "      <td>...</td>\n",
       "      <td>NaN</td>\n",
       "      <td>Same as the National average</td>\n",
       "      <td>NaN</td>\n",
       "      <td>Same as the National average</td>\n",
       "      <td>NaN</td>\n",
       "      <td>Above the National average</td>\n",
       "      <td>NaN</td>\n",
       "      <td>Below the National average</td>\n",
       "      <td>NaN</td>\n",
       "      <td>2505 U S HIGHWAY 431 NORTH\\nBOAZ, AL 35957\\n</td>\n",
       "    </tr>\n",
       "    <tr>\n",
       "      <th>1</th>\n",
       "      <td>1</td>\n",
       "      <td>10032</td>\n",
       "      <td>WEDOWEE HOSPITAL</td>\n",
       "      <td>209 NORTH MAIN STREET</td>\n",
       "      <td>WEDOWEE</td>\n",
       "      <td>AL</td>\n",
       "      <td>36278</td>\n",
       "      <td>RANDOLPH</td>\n",
       "      <td>2563572111</td>\n",
       "      <td>Acute Care Hospitals</td>\n",
       "      <td>...</td>\n",
       "      <td>NaN</td>\n",
       "      <td>Not Available</td>\n",
       "      <td>Results are not available for this reporting p...</td>\n",
       "      <td>Same as the National average</td>\n",
       "      <td>NaN</td>\n",
       "      <td>Same as the National average</td>\n",
       "      <td>NaN</td>\n",
       "      <td>Not Available</td>\n",
       "      <td>Results are not available for this reporting p...</td>\n",
       "      <td>209 NORTH MAIN STREET\\nWEDOWEE, AL 36278\\n</td>\n",
       "    </tr>\n",
       "    <tr>\n",
       "      <th>2</th>\n",
       "      <td>2</td>\n",
       "      <td>10131</td>\n",
       "      <td>CRESTWOOD MEDICAL CENTER</td>\n",
       "      <td>ONE HOSPITAL DR SE</td>\n",
       "      <td>HUNTSVILLE</td>\n",
       "      <td>AL</td>\n",
       "      <td>35801</td>\n",
       "      <td>MADISON</td>\n",
       "      <td>2568823100</td>\n",
       "      <td>Acute Care Hospitals</td>\n",
       "      <td>...</td>\n",
       "      <td>NaN</td>\n",
       "      <td>Same as the National average</td>\n",
       "      <td>NaN</td>\n",
       "      <td>Same as the National average</td>\n",
       "      <td>NaN</td>\n",
       "      <td>Same as the National average</td>\n",
       "      <td>NaN</td>\n",
       "      <td>Same as the National average</td>\n",
       "      <td>NaN</td>\n",
       "      <td>ONE HOSPITAL DR SE\\nHUNTSVILLE, AL 35801\\n</td>\n",
       "    </tr>\n",
       "    <tr>\n",
       "      <th>3</th>\n",
       "      <td>3</td>\n",
       "      <td>20001</td>\n",
       "      <td>PROVIDENCE ALASKA MEDICAL CENTER</td>\n",
       "      <td>BOX 196604</td>\n",
       "      <td>ANCHORAGE</td>\n",
       "      <td>AK</td>\n",
       "      <td>99508</td>\n",
       "      <td>ANCHORAGE</td>\n",
       "      <td>9072123675</td>\n",
       "      <td>Acute Care Hospitals</td>\n",
       "      <td>...</td>\n",
       "      <td>NaN</td>\n",
       "      <td>Below the National average</td>\n",
       "      <td>NaN</td>\n",
       "      <td>Below the National average</td>\n",
       "      <td>NaN</td>\n",
       "      <td>Below the National average</td>\n",
       "      <td>NaN</td>\n",
       "      <td>Same as the National average</td>\n",
       "      <td>NaN</td>\n",
       "      <td>BOX 196604\\nANCHORAGE, AK 99508\\n</td>\n",
       "    </tr>\n",
       "    <tr>\n",
       "      <th>4</th>\n",
       "      <td>4</td>\n",
       "      <td>20018</td>\n",
       "      <td>YUKON KUSKOKWIM DELTA REG HOSPITAL</td>\n",
       "      <td>PO BOX 287</td>\n",
       "      <td>BETHEL</td>\n",
       "      <td>AK</td>\n",
       "      <td>99559</td>\n",
       "      <td>BETHEL</td>\n",
       "      <td>9075436300</td>\n",
       "      <td>Acute Care Hospitals</td>\n",
       "      <td>...</td>\n",
       "      <td>NaN</td>\n",
       "      <td>Below the National average</td>\n",
       "      <td>NaN</td>\n",
       "      <td>Below the National average</td>\n",
       "      <td>NaN</td>\n",
       "      <td>Not Available</td>\n",
       "      <td>Results are not available for this reporting p...</td>\n",
       "      <td>Not Available</td>\n",
       "      <td>Results are not available for this reporting p...</td>\n",
       "      <td>PO BOX 287\\nBETHEL, AK 99559\\n</td>\n",
       "    </tr>\n",
       "  </tbody>\n",
       "</table>\n",
       "<p>5 rows × 30 columns</p>\n",
       "</div>"
      ],
      "text/plain": [
       "   index  Provider ID                       Hospital Name  \\\n",
       "0      0        10005       MARSHALL MEDICAL CENTER SOUTH   \n",
       "1      1        10032                    WEDOWEE HOSPITAL   \n",
       "2      2        10131            CRESTWOOD MEDICAL CENTER   \n",
       "3      3        20001    PROVIDENCE ALASKA MEDICAL CENTER   \n",
       "4      4        20018  YUKON KUSKOKWIM DELTA REG HOSPITAL   \n",
       "\n",
       "                      Address        City State  ZIP Code County Name  \\\n",
       "0  2505 U S HIGHWAY 431 NORTH        BOAZ    AL     35957    MARSHALL   \n",
       "1       209 NORTH MAIN STREET     WEDOWEE    AL     36278    RANDOLPH   \n",
       "2          ONE HOSPITAL DR SE  HUNTSVILLE    AL     35801     MADISON   \n",
       "3                  BOX 196604   ANCHORAGE    AK     99508   ANCHORAGE   \n",
       "4                  PO BOX 287      BETHEL    AK     99559      BETHEL   \n",
       "\n",
       "   Phone Number         Hospital Type  ...  \\\n",
       "0    2565938310  Acute Care Hospitals  ...   \n",
       "1    2563572111  Acute Care Hospitals  ...   \n",
       "2    2568823100  Acute Care Hospitals  ...   \n",
       "3    9072123675  Acute Care Hospitals  ...   \n",
       "4    9075436300  Acute Care Hospitals  ...   \n",
       "\n",
       "  Readmission national comparison footnote  \\\n",
       "0                                      NaN   \n",
       "1                                      NaN   \n",
       "2                                      NaN   \n",
       "3                                      NaN   \n",
       "4                                      NaN   \n",
       "\n",
       "   Patient experience national comparison  \\\n",
       "0            Same as the National average   \n",
       "1                           Not Available   \n",
       "2            Same as the National average   \n",
       "3              Below the National average   \n",
       "4              Below the National average   \n",
       "\n",
       "     Patient experience national comparison footnote  \\\n",
       "0                                                NaN   \n",
       "1  Results are not available for this reporting p...   \n",
       "2                                                NaN   \n",
       "3                                                NaN   \n",
       "4                                                NaN   \n",
       "\n",
       "   Effectiveness of care national comparison  \\\n",
       "0               Same as the National average   \n",
       "1               Same as the National average   \n",
       "2               Same as the National average   \n",
       "3                 Below the National average   \n",
       "4                 Below the National average   \n",
       "\n",
       "  Effectiveness of care national comparison footnote  \\\n",
       "0                                                NaN   \n",
       "1                                                NaN   \n",
       "2                                                NaN   \n",
       "3                                                NaN   \n",
       "4                                                NaN   \n",
       "\n",
       "  Timeliness of care national comparison  \\\n",
       "0             Above the National average   \n",
       "1           Same as the National average   \n",
       "2           Same as the National average   \n",
       "3             Below the National average   \n",
       "4                          Not Available   \n",
       "\n",
       "     Timeliness of care national comparison footnote  \\\n",
       "0                                                NaN   \n",
       "1                                                NaN   \n",
       "2                                                NaN   \n",
       "3                                                NaN   \n",
       "4  Results are not available for this reporting p...   \n",
       "\n",
       "  Efficient use of medical imaging national comparison  \\\n",
       "0                         Below the National average     \n",
       "1                                      Not Available     \n",
       "2                       Same as the National average     \n",
       "3                       Same as the National average     \n",
       "4                                      Not Available     \n",
       "\n",
       "  Efficient use of medical imaging national comparison footnote  \\\n",
       "0                                                NaN              \n",
       "1  Results are not available for this reporting p...              \n",
       "2                                                NaN              \n",
       "3                                                NaN              \n",
       "4  Results are not available for this reporting p...              \n",
       "\n",
       "                                       Location  \n",
       "0  2505 U S HIGHWAY 431 NORTH\\nBOAZ, AL 35957\\n  \n",
       "1    209 NORTH MAIN STREET\\nWEDOWEE, AL 36278\\n  \n",
       "2    ONE HOSPITAL DR SE\\nHUNTSVILLE, AL 35801\\n  \n",
       "3             BOX 196604\\nANCHORAGE, AK 99508\\n  \n",
       "4                PO BOX 287\\nBETHEL, AK 99559\\n  \n",
       "\n",
       "[5 rows x 30 columns]"
      ]
     },
     "execution_count": 28,
     "metadata": {},
     "output_type": "execute_result"
    }
   ],
   "source": [
    "#  print first 5 rows\n",
    "hospital_info_df.head()"
   ]
  },
  {
   "cell_type": "code",
   "execution_count": 29,
   "metadata": {},
   "outputs": [
    {
     "data": {
      "text/plain": [
       "(4818, 30)"
      ]
     },
     "execution_count": 29,
     "metadata": {},
     "output_type": "execute_result"
    }
   ],
   "source": [
    "# number of rows and columns\n",
    "hospital_info_df.shape"
   ]
  },
  {
   "cell_type": "code",
   "execution_count": 30,
   "metadata": {},
   "outputs": [
    {
     "data": {
      "text/plain": [
       "Index(['index', 'Provider ID', 'Hospital Name', 'Address', 'City', 'State',\n",
       "       'ZIP Code', 'County Name', 'Phone Number', 'Hospital Type',\n",
       "       'Hospital Ownership', 'Emergency Services',\n",
       "       'Meets criteria for meaningful use of EHRs', 'Hospital overall rating',\n",
       "       'Hospital overall rating footnote', 'Mortality national comparison',\n",
       "       'Mortality national comparison footnote',\n",
       "       'Safety of care national comparison',\n",
       "       'Safety of care national comparison footnote',\n",
       "       'Readmission national comparison',\n",
       "       'Readmission national comparison footnote',\n",
       "       'Patient experience national comparison',\n",
       "       'Patient experience national comparison footnote',\n",
       "       'Effectiveness of care national comparison',\n",
       "       'Effectiveness of care national comparison footnote',\n",
       "       'Timeliness of care national comparison',\n",
       "       'Timeliness of care national comparison footnote',\n",
       "       'Efficient use of medical imaging national comparison',\n",
       "       'Efficient use of medical imaging national comparison footnote',\n",
       "       'Location'],\n",
       "      dtype='object')"
      ]
     },
     "execution_count": 30,
     "metadata": {},
     "output_type": "execute_result"
    }
   ],
   "source": [
    "# list column names\n",
    "hospital_info_df.columns"
   ]
  },
  {
   "cell_type": "code",
   "execution_count": 31,
   "metadata": {},
   "outputs": [
    {
     "data": {
      "text/plain": [
       "index                                                               0\n",
       "Provider ID                                                         0\n",
       "Hospital Name                                                       0\n",
       "Address                                                             0\n",
       "City                                                                0\n",
       "State                                                               0\n",
       "ZIP Code                                                            0\n",
       "County Name                                                        15\n",
       "Phone Number                                                        0\n",
       "Hospital Type                                                       0\n",
       "Hospital Ownership                                                  0\n",
       "Emergency Services                                                  0\n",
       "Meets criteria for meaningful use of EHRs                        4818\n",
       "Hospital overall rating                                          1170\n",
       "Hospital overall rating footnote                                 3476\n",
       "Mortality national comparison                                       0\n",
       "Mortality national comparison footnote                           3481\n",
       "Safety of care national comparison                                  0\n",
       "Safety of care national comparison footnote                      2926\n",
       "Readmission national comparison                                     0\n",
       "Readmission national comparison footnote                         3816\n",
       "Patient experience national comparison                              0\n",
       "Patient experience national comparison footnote                  3463\n",
       "Effectiveness of care national comparison                           0\n",
       "Effectiveness of care national comparison footnote               3702\n",
       "Timeliness of care national comparison                              0\n",
       "Timeliness of care national comparison footnote                  3487\n",
       "Efficient use of medical imaging national comparison                0\n",
       "Efficient use of medical imaging national comparison footnote    2792\n",
       "Location                                                            0\n",
       "dtype: int64"
      ]
     },
     "execution_count": 31,
     "metadata": {},
     "output_type": "execute_result"
    }
   ],
   "source": [
    "# null count for each column\n",
    "hospital_info_df.isnull().sum()"
   ]
  },
  {
   "attachments": {},
   "cell_type": "markdown",
   "metadata": {
    "azdata_cell_guid": "d45060f3-97bc-484a-9ef4-66145bbe9427"
   },
   "source": [
    "## Visualize\n",
    "\n",
    "Create any visualizations for your EDA here. Make note in the form of code comments of what your thought process is for your visualizations."
   ]
  },
  {
   "cell_type": "code",
   "execution_count": 32,
   "metadata": {
    "azdata_cell_guid": "f4565b03-759a-47a8-b58f-01b32a0b4b67"
   },
   "outputs": [
    {
     "data": {
      "image/png": "[encoded data removed]",
      "text/plain": [
       "<Figure size 640x480 with 1 Axes>"
      ]
     },
     "metadata": {},
     "output_type": "display_data"
    }
   ],
   "source": [
    "# Group by 'State' and count the number of hospitals in each state\n",
    "hospital_count_by_state = hospital_info_df.groupby('State').size()\n",
    "hospital_count_by_state.plot(kind='bar', title= 'Distribution of Hospitals By State')\n",
    "plt.xlabel('State')\n",
    "plt.ylabel('Count')\n",
    "plt.show()"
   ]
  },
  {
   "cell_type": "code",
   "execution_count": 33,
   "metadata": {
    "azdata_cell_guid": "cd64bab1-db4c-4295-820d-c6464b653a3e"
   },
   "outputs": [
    {
     "data": {
      "image/png": "[encoded data removed]",
      "text/plain": [
       "<Figure size 640x480 with 1 Axes>"
      ]
     },
     "metadata": {},
     "output_type": "display_data"
    }
   ],
   "source": [
    "# Plot the distribution of hospital types\n",
    "hospital_type_counts = hospital_info_df['Hospital Type'].value_counts()\n",
    "hospital_type_counts.plot(kind='bar', title='Distribution of Hospital Types')\n",
    "plt.xlabel('Hospital Type')\n",
    "plt.ylabel('Count')\n",
    "plt.show()"
   ]
  },
  {
   "cell_type": "markdown",
   "metadata": {
    "azdata_cell_guid": "d4931c0c-2c09-4ee1-95d4-73dd08c2f0a6"
   },
   "source": [
    "## Summarize Your Results\n",
    "\n",
    "With your EDA complete, answer the following questions.\n",
    "\n",
    "1. Was there anything surprising about your dataset?\n",
    "\n",
    "   What surprised me was how few children's hospitals there are compared to the other hospital types.\n",
    "   \n",
    "2. Do you have any concerns about your dataset?\n",
    "\n",
    "    No, I do not have any concerns. The columns I need to perform my analysis have no null values, which should help with the accuracy of my analysis.\n",
    "\n",
    "3. Is there anything you want to make a note of for the next phase of your analysis, which is cleaning data?\n",
    "\n",
    "   There are a lot of columns currently in the table that are not needed. When I start cleaning my data, I will focus on removing them first.\n",
    "\n",
    "   Also, I thought I would need to use both CSVs to know where the hospitals were located, but I realized that both have the hospital address on them."
   ]
  }
 ],
 "metadata": {
  "kernelspec": {
   "display_name": "Python 3 (ipykernel)",
   "language": "python",
   "name": "python3"
  },
  "language_info": {
   "codemirror_mode": {
    "name": "ipython",
    "version": 3
   },
   "file_extension": ".py",
   "mimetype": "text/x-python",
   "name": "python",
   "nbconvert_exporter": "python",
   "pygments_lexer": "ipython3",
   "version": "3.12.5"
  }
 },
 "nbformat": 4,
 "nbformat_minor": 4
}
